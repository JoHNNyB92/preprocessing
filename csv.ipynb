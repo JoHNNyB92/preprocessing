{
 "cells": [
  {
   "cell_type": "code",
   "execution_count": 1,
   "metadata": {},
   "outputs": [
    {
     "name": "stdout",
     "output_type": "stream",
     "text": [
      "Writing to csv part_2.csv  one row with name: Ιωάννης surname: Αυγέρος and master: \"Μεταπτυχιακό στην Επιστήμη Δεδομένων\"\n"
     ]
    }
   ],
   "source": [
    "import csv\n",
    "csv_name='part_2.csv'\n",
    "ofile  = open(csv_name, \"wb\")\n",
    "ofile.write(u'\\ufeff'.encode('utf-8'))\n",
    "writer = csv.writer(ofile,delimiter =';',quotechar = \"\\\"\",dialect='excel')\n",
    "row=['Ιωάννης','Αυγέρος','\\\"Μεταπτυχιακό στην Επιστήμη Δεδομένων\\\"']\n",
    "print 'Writing to csv',csv_name,' one row with name:',row[0],'surname:',row[1],'and master:',row[2]\n",
    "writer.writerow(row)\n",
    "ofile.close()\n"
   ]
  },
  {
   "cell_type": "code",
   "execution_count": null,
   "metadata": {
    "collapsed": true
   },
   "outputs": [],
   "source": []
  }
 ],
 "metadata": {
  "kernelspec": {
   "display_name": "Python 2",
   "language": "python",
   "name": "python2"
  },
  "language_info": {
   "codemirror_mode": {
    "name": "ipython",
    "version": 2
   },
   "file_extension": ".py",
   "mimetype": "text/x-python",
   "name": "python",
   "nbconvert_exporter": "python",
   "pygments_lexer": "ipython2",
   "version": "2.7.13"
  }
 },
 "nbformat": 4,
 "nbformat_minor": 2
}
